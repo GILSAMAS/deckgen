{
 "cells": [
  {
   "cell_type": "code",
   "execution_count": 1,
   "id": "e223baca",
   "metadata": {},
   "outputs": [],
   "source": [
    "from ml_extra.decorators.mlflow.exp_tracking import mlflow_experiment \n",
    "from ml_extra.decorators.mlflow.exp_tracking import mlflow_client\n",
    "from ml_extra.decorators.mlflow.exp_tracking import mlflow_tracking_uri\n",
    "from deckgen.client.openai_client import OpenAIClient\n",
    "from dotenv import load_dotenv\n",
    "from prompteng.prompts import templates\n",
    "from prompteng.prompts.parser import QAParser\n",
    "from prompteng.utils.filesystem import get_root_path\n",
    "\n",
    "import os \n",
    "import mlflow"
   ]
  },
  {
   "cell_type": "code",
   "execution_count": 2,
   "id": "74cdcee2",
   "metadata": {},
   "outputs": [],
   "source": [
    "root_path = get_root_path()\n",
    "os.environ[\"MLFLOW_TRACKING_URI\"] = (root_path / \"mlruns\").as_uri()"
   ]
  },
  {
   "cell_type": "code",
   "execution_count": 3,
   "id": "68f73f49",
   "metadata": {},
   "outputs": [],
   "source": [
    "@mlflow_tracking_uri\n",
    "@mlflow_experiment(name=\"simple_prompt_experiment\")\n",
    "def log_simple_prompt(**kwargs):\n",
    "    \"\"\"\n",
    "    A simple function to demonstrate logging a prompt in an MLflow experiment.\n",
    "    \"\"\"\n",
    "\n",
    "    template = kwargs.get(\"template\")\n",
    "    name = kwargs.get(\"name\", \"simple_prompt\")\n",
    "    with mlflow.start_run(run_name=\"simple_prompt_run\"):\n",
    "        mlflow.genai.register_prompt(\n",
    "            name=name,\n",
    "            template=template,\n",
    "        )"
   ]
  },
  {
   "cell_type": "code",
   "execution_count": 4,
   "id": "8ed21ce9",
   "metadata": {},
   "outputs": [
    {
     "name": "stdout",
     "output_type": "stream",
     "text": [
      "Setting MLflow tracking URI...\n",
      "Setting MLflow experiment: simple_prompt_experiment\n"
     ]
    }
   ],
   "source": [
    "# log_simple_prompt(template= templates.QUESTION_ASKER, name =\"question_asker_prompt\")\n",
    "# log_simple_prompt(template=templates.TOPIC_FINDER, name=\"topic_finder_prompt\")\n",
    "log_simple_prompt(template=templates.QUESTION_ASKING, name=\"question_asking_prompt\")"
   ]
  },
  {
   "cell_type": "code",
   "execution_count": 5,
   "id": "956c7ac3",
   "metadata": {},
   "outputs": [
    {
     "name": "stdout",
     "output_type": "stream",
     "text": [
      "PromptVersion(name=question_asking_prompt, version=5, template=\n",
      "You are an expert in {{expert...)\n"
     ]
    }
   ],
   "source": [
    "loaded_template = mlflow.genai.load_prompt(name_or_uri =\"topic_finder_prompt\", version=\"4\")\n",
    "loaded_template_qa = mlflow.genai.load_prompt(name_or_uri=\"question_asking_prompt\", version=\"5\")\n",
    "print(loaded_template_qa)"
   ]
  },
  {
   "cell_type": "code",
   "execution_count": 6,
   "id": "48266e18",
   "metadata": {},
   "outputs": [
    {
     "data": {
      "text/plain": [
       "True"
      ]
     },
     "execution_count": 6,
     "metadata": {},
     "output_type": "execute_result"
    }
   ],
   "source": [
    "load_dotenv(dotenv_path = root_path / \".env\")"
   ]
  },
  {
   "cell_type": "code",
   "execution_count": 7,
   "id": "b8343437",
   "metadata": {},
   "outputs": [],
   "source": [
    "client = OpenAIClient()"
   ]
  },
  {
   "cell_type": "code",
   "execution_count": 8,
   "id": "a3cbcf71",
   "metadata": {},
   "outputs": [],
   "source": [
    "import json"
   ]
  },
  {
   "cell_type": "code",
   "execution_count": 9,
   "id": "73120532",
   "metadata": {},
   "outputs": [],
   "source": [
    "text = \"\"\" \n",
    "Data science is an interdisciplinary academic field[1] that uses statistics, scientific computing, scientific methods, processing, \n",
    "scientific visualization, algorithms and systems to extract or extrapolate knowledge from potentially noisy, structured, or unstructured data.\n",
    "\n",
    "Data science also integrates domain knowledge from the underlying application domain (e.g., natural sciences, information technology, and medicine).\n",
    "Data science is multifaceted and can be described as a science, a research paradigm, a research method, a discipline, a workflow, and a profession.\n",
    "Data science is \"a concept to unify statistics, data analysis, informatics, and their related methods\" to \"understand and analyze actual phenomena\"\n",
    "with data. It uses techniques and theories drawn from many fields within the context of mathematics, statistics, computer science, information science,\n",
    "and domain knowledge.[6] However, data science is different from computer science and information science. Turing Award winner Jim Gray imagined data science as a \"fourth paradigm\" of science (empirical, theoretical, computational, and now data-driven) and asserted that \"everything about science is changing because of the impact of information technology\" and the data deluge.[7][8]\n",
    "\n",
    "A data scientist is a professional who creates programming code and combines it with statistical knowledge to summarize data.\n",
    "\"\"\"\n",
    "text =   \"\"\" \n",
    "Discover Azure Functions\n",
    "\n",
    "Azure Functions is a serverless solution that allows you to write less code, maintain less infrastructure, and save on costs. Instead of worrying about deploying \n",
    "and maintaining servers, the cloud infrastructure provides all the up-to-date resources needed to keep your applications running.\n",
    "We often build systems to react to a series of critical events. Whether you're building a web API, responding to database changes,\n",
    "processing IoT data streams, or even managing message queues - every application needs a way to run some code as these events occur.\n",
    "\n",
    "Azure Functions supports triggers, which are ways to start execution of your code, and bindings, \n",
    "which are ways to simplify coding for input and output data. There are other integration and automation\n",
    "services in Azure and they all can solve integration problems and automate business processes.\n",
    "They can all define input, actions, conditions, and output.\n",
    "\n",
    "Compare Azure Functions and Azure Logic Apps\n",
    "Both Functions and Logic Apps are Azure Services that enable serverless workloads. Azure Functions is a serverless compute service,\n",
    "whereas Azure Logic Apps is a serverless workflow integration platform. Both can create complex orchestrations. \n",
    "An orchestration is a collection of functions or steps, called actions in Logic Apps, that are executed to accomplish a complex task.\n",
    "\n",
    "For Azure Functions, you develop orchestrations by writing code and using the Durable Functions extension. \n",
    "For Logic Apps, you create orchestrations by using a GUI or editing configuration files.\n",
    "\"\"\"\n"
   ]
  },
  {
   "cell_type": "code",
   "execution_count": 10,
   "id": "f8dc69cc",
   "metadata": {},
   "outputs": [],
   "source": [
    "topics = client.request(\n",
    "    method=\"POST\",\n",
    "    endpoint=\"responses\",\n",
    "    data = json.dumps({\"model\":\"gpt-3.5-turbo\",\"input\": loaded_template.format(text=text)}))"
   ]
  },
  {
   "cell_type": "code",
   "execution_count": 11,
   "id": "8455bf0b",
   "metadata": {},
   "outputs": [],
   "source": [
    "expertise = \" \".join(topics.json()[\"output\"][0][\"content\"][0][\"text\"].split(\"\\n\"))"
   ]
  },
  {
   "cell_type": "code",
   "execution_count": 12,
   "id": "ebdf3d44",
   "metadata": {},
   "outputs": [],
   "source": [
    "response = client.request(\n",
    "    method=\"POST\",\n",
    "    endpoint=\"responses\",\n",
    "    data=json.dumps({\n",
    "        \"model\": \"gpt-3.5-turbo\",\n",
    "        \"input\": loaded_template_qa.format(expertise=expertise, text=text)\n",
    "    })\n",
    ")"
   ]
  },
  {
   "cell_type": "code",
   "execution_count": 13,
   "id": "d204d6b7",
   "metadata": {},
   "outputs": [],
   "source": [
    "qa_string = response.json()[\"output\"][0][\"content\"][0][\"text\"]"
   ]
  },
  {
   "cell_type": "code",
   "execution_count": 14,
   "id": "5f48e682",
   "metadata": {},
   "outputs": [],
   "source": [
    "qa_parser = QAParser(text=qa_string)\n",
    "qa_list = qa_parser.parse()\n"
   ]
  },
  {
   "cell_type": "code",
   "execution_count": 15,
   "id": "68ff1e96",
   "metadata": {},
   "outputs": [
    {
     "data": {
      "text/plain": [
       "[{'question': 'What is Azure Functions and how does it differ from traditional server infrastructure?',\n",
       "  'answer': 'Azure Functions is a serverless solution that allows you to write less code, maintain less infrastructure, and save on costs by leveraging cloud resources instead of managing servers.'},\n",
       " {'question': 'What are triggers and bindings in Azure Functions?',\n",
       "  'answer': 'Triggers are ways to start the execution of code, while bindings are ways to simplify coding for input and output data in Azure Functions.'},\n",
       " {'question': 'How do Azure Functions and Azure Logic Apps compare in terms of their purpose?',\n",
       "  'answer': 'Azure Functions is a serverless compute service for running functions, while Azure Logic Apps is a serverless workflow integration platform for creating orchestrations.'},\n",
       " {'question': 'What is an orchestration in the context of Azure Functions and Logic Apps?',\n",
       "  'answer': 'An orchestration is a collection of functions or steps (actions in Logic Apps) that are executed to accomplish a complex task in both Azure Functions and Azure Logic Apps.'},\n",
       " {'question': 'How do you develop orchestrations in Azure Functions versus Azure Logic Apps?',\n",
       "  'answer': 'In Azure Functions, orchestrations are developed by writing code and using the Durable Functions extension, while in Azure Logic Apps, orchestrations are created using a GUI or editing configuration files.'}]"
      ]
     },
     "execution_count": 15,
     "metadata": {},
     "output_type": "execute_result"
    }
   ],
   "source": [
    "qa_list"
   ]
  },
  {
   "cell_type": "code",
   "execution_count": 16,
   "id": "ccea2c41",
   "metadata": {},
   "outputs": [],
   "source": [
    "from deckgen.pipelines.qa_pipeline import QAToolKit"
   ]
  },
  {
   "cell_type": "code",
   "execution_count": 18,
   "id": "fe9a8c4a",
   "metadata": {},
   "outputs": [
    {
     "name": "stdout",
     "output_type": "stream",
     "text": [
      "Question: What is Azure Functions and how does it differ from traditional server infrastructure?\n",
      "Answer: Azure Functions is a serverless solution that allows you to write less code, maintain less infrastructure, and save on costs by leveraging cloud resources instead of deploying and maintaining servers.\n",
      "----------------------------------------\n",
      "Question: What are triggers and bindings in Azure Functions?\n",
      "Answer: Triggers in Azure Functions are ways to start the execution of your code based on events, while bindings simplify coding for input and output data.\n",
      "----------------------------------------\n",
      "Question: How do Azure Functions and Azure Logic Apps differ in terms of their purpose?\n",
      "Answer: Azure Functions is a serverless compute service for writing code orchestrations, while Azure Logic Apps is a serverless workflow integration platform that allows creating orchestrations using a GUI or configuration files.\n",
      "----------------------------------------\n",
      "Question: What is an orchestration in the context of Azure Functions and Azure Logic Apps?\n",
      "Answer: An orchestration is a collection of functions or steps (actions in Logic Apps) that are executed to accomplish complex tasks within the serverless environment.\n",
      "----------------------------------------\n",
      "Question: How can you develop orchestrations in Azure Functions and Azure Logic Apps?\n",
      "Answer: In Azure Functions, orchestrations are developed by writing code and using the Durable Functions extension, while in Azure Logic Apps, orchestrations are created using a GUI or editing configuration files.\n",
      "----------------------------------------\n"
     ]
    }
   ],
   "source": [
    "text =   \"\"\" \n",
    "Discover Azure Functions\n",
    "\n",
    "Azure Functions is a serverless solution that allows you to write less code, maintain less infrastructure, and save on costs. Instead of worrying about deploying \n",
    "and maintaining servers, the cloud infrastructure provides all the up-to-date resources needed to keep your applications running.\n",
    "We often build systems to react to a series of critical events. Whether you're building a web API, responding to database changes,\n",
    "processing IoT data streams, or even managing message queues - every application needs a way to run some code as these events occur.\n",
    "\n",
    "Azure Functions supports triggers, which are ways to start execution of your code, and bindings, \n",
    "which are ways to simplify coding for input and output data. There are other integration and automation\n",
    "services in Azure and they all can solve integration problems and automate business processes.\n",
    "They can all define input, actions, conditions, and output.\n",
    "\n",
    "Compare Azure Functions and Azure Logic Apps\n",
    "Both Functions and Logic Apps are Azure Services that enable serverless workloads. Azure Functions is a serverless compute service,\n",
    "whereas Azure Logic Apps is a serverless workflow integration platform. Both can create complex orchestrations. \n",
    "An orchestration is a collection of functions or steps, called actions in Logic Apps, that are executed to accomplish a complex task.\n",
    "\n",
    "For Azure Functions, you develop orchestrations by writing code and using the Durable Functions extension. \n",
    "For Logic Apps, you create orchestrations by using a GUI or editing configuration files.\n",
    "\"\"\"\n",
    "\n",
    "qa_toolkit = QAToolKit(input_text=text)\n",
    "qa_list = qa_toolkit.generate_qa()\n",
    "for qa in qa_list:\n",
    "    print(f\"Question: {qa['question']}\")\n",
    "    print(f\"Answer: {qa['answer']}\")\n",
    "    print(\"-\" * 40)"
   ]
  },
  {
   "cell_type": "code",
   "execution_count": null,
   "id": "529f050e",
   "metadata": {},
   "outputs": [],
   "source": []
  },
  {
   "cell_type": "code",
   "execution_count": null,
   "id": "7710e648",
   "metadata": {},
   "outputs": [],
   "source": [
    "qa_list"
   ]
  },
  {
   "cell_type": "code",
   "execution_count": null,
   "id": "6374a9e4",
   "metadata": {},
   "outputs": [],
   "source": []
  }
 ],
 "metadata": {
  "kernelspec": {
   "display_name": ".venv",
   "language": "python",
   "name": "python3"
  },
  "language_info": {
   "codemirror_mode": {
    "name": "ipython",
    "version": 3
   },
   "file_extension": ".py",
   "mimetype": "text/x-python",
   "name": "python",
   "nbconvert_exporter": "python",
   "pygments_lexer": "ipython3",
   "version": "3.11.9"
  }
 },
 "nbformat": 4,
 "nbformat_minor": 5
}
