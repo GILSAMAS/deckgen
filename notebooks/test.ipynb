{
 "cells": [
  {
   "cell_type": "code",
   "execution_count": null,
   "id": "e223baca",
   "metadata": {},
   "outputs": [],
   "source": [
    "from ml_extra.decorators.mlflow.exp_tracking import mlflow_experiment \n",
    "from ml_extra.decorators.mlflow.exp_tracking import mlflow_client\n",
    "from ml_extra.decorators.mlflow.exp_tracking import mlflow_tracking_uri\n",
    "\n",
    "from prompteng.prompts import templates\n",
    "from prompteng.utils.filesystem import get_root_path\n",
    "import os \n",
    "import mlflow"
   ]
  },
  {
   "cell_type": "code",
   "execution_count": null,
   "id": "74cdcee2",
   "metadata": {},
   "outputs": [],
   "source": [
    "root_path = get_root_path()\n",
    "os.environ[\"MLFLOW_TRACKING_URI\"] = (root_path / \"mlruns\").as_uri()"
   ]
  },
  {
   "cell_type": "code",
   "execution_count": null,
   "id": "68f73f49",
   "metadata": {},
   "outputs": [],
   "source": [
    "@mlflow_tracking_uri\n",
    "@mlflow_experiment(name=\"simple_prompt_experiment\")\n",
    "def log_simple_prompt(**kwargs):\n",
    "    \"\"\"\n",
    "    A simple function to demonstrate logging a prompt in an MLflow experiment.\n",
    "    \"\"\"\n",
    "\n",
    "    template = kwargs.get(\"template\")\n",
    "    name = kwargs.get(\"name\", \"simple_prompt\")\n",
    "    with mlflow.start_run(run_name=\"simple_prompt_run\"):\n",
    "        mlflow.genai.register_prompt(\n",
    "            name=name,\n",
    "            template=template,\n",
    "        )"
   ]
  },
  {
   "cell_type": "code",
   "execution_count": null,
   "id": "8ed21ce9",
   "metadata": {},
   "outputs": [],
   "source": [
    "log_simple_prompt(template=templates.TOPIC_FINDER, name=\"topic_finder_prompt\")"
   ]
  },
  {
   "cell_type": "code",
   "execution_count": null,
   "id": "956c7ac3",
   "metadata": {},
   "outputs": [],
   "source": [
    "loaded_template = mlflow.genai.load_prompt(name_or_uri =\"topic_finder_prompt\", version=\"4\")"
   ]
  },
  {
   "cell_type": "code",
   "execution_count": null,
   "id": "27e1cc8c",
   "metadata": {},
   "outputs": [],
   "source": [
    "print(loaded_template.format(\n",
    "    text=\"Artificial Intelligence\"\n",
    "))"
   ]
  },
  {
   "cell_type": "code",
   "execution_count": null,
   "id": "37b4efac",
   "metadata": {},
   "outputs": [],
   "source": [
    "from prompteng.prompts.openai_client import OpenAIClient\n",
    "from dotenv import load_dotenv"
   ]
  },
  {
   "cell_type": "code",
   "execution_count": null,
   "id": "48266e18",
   "metadata": {},
   "outputs": [],
   "source": [
    "load_dotenv(dotenv_path = root_path / \".env\")"
   ]
  },
  {
   "cell_type": "code",
   "execution_count": null,
   "id": "b8343437",
   "metadata": {},
   "outputs": [],
   "source": [
    "client = OpenAIClient()"
   ]
  },
  {
   "cell_type": "code",
   "execution_count": null,
   "id": "a3cbcf71",
   "metadata": {},
   "outputs": [],
   "source": [
    "import json"
   ]
  },
  {
   "cell_type": "code",
   "execution_count": null,
   "id": "f8dc69cc",
   "metadata": {},
   "outputs": [],
   "source": [
    "response = client.request(\n",
    "    method=\"POST\",\n",
    "    endpoint=\"responses\",\n",
    "    data = json.dumps({\"model\":\"gpt-4\",\"input\":\"Tell me something about Artificial Intelligence\"}))"
   ]
  },
  {
   "cell_type": "code",
   "execution_count": null,
   "id": "8455bf0b",
   "metadata": {},
   "outputs": [],
   "source": [
    "response.json()"
   ]
  },
  {
   "cell_type": "code",
   "execution_count": null,
   "id": "ebdf3d44",
   "metadata": {},
   "outputs": [],
   "source": []
  }
 ],
 "metadata": {
  "kernelspec": {
   "display_name": ".venv",
   "language": "python",
   "name": "python3"
  },
  "language_info": {
   "codemirror_mode": {
    "name": "ipython",
    "version": 3
   },
   "file_extension": ".py",
   "mimetype": "text/x-python",
   "name": "python",
   "nbconvert_exporter": "python",
   "pygments_lexer": "ipython3",
   "version": "3.11.9"
  }
 },
 "nbformat": 4,
 "nbformat_minor": 5
}
